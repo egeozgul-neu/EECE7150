{
 "cells": [
  {
   "cell_type": "markdown",
   "id": "3db2a22d-224f-4e6a-88c5-f607aac62257",
   "metadata": {},
   "source": [
    "# Part b)"
   ]
  },
  {
   "cell_type": "code",
   "execution_count": 7,
   "id": "b64a5e83-2c3a-46a0-ba93-07a2d872e63e",
   "metadata": {},
   "outputs": [],
   "source": [
    "import random\n",
    "\n",
    "def simulate_weather(days, start=0):\n",
    "    #define the states: 0 = sunny, 1 = cloudy, 2 = rainy\n",
    "    states = [\"sunny\", \"cloudy\", \"rainy\"]\n",
    "\n",
    "    #transition matrix (current_state,next_state)\n",
    "    trans = [\n",
    "        [0.8, 0.2, 0.0],  # sunny row\n",
    "        [0.4, 0.4, 0.2],  # cloudy row\n",
    "        [0.2, 0.6, 0.2],  # rainy row\n",
    "    ]\n",
    "    \n",
    "    seq = [start]        # list of states\n",
    "    cur = start          # current state\n",
    "    \n",
    "    for i in range(days - 1):\n",
    "        #choose next state based on transition probs\n",
    "        nxt = random.choices([0, 1, 2], trans[cur])[0]\n",
    "        seq.append(nxt)\n",
    "        cur = nxt        # update current state\n",
    "    \n",
    "    #convert numeric states back to names\n",
    "    forecast = []\n",
    "    for i in seq:\n",
    "        forecast.append(states[i])\n",
    "    \n",
    "    return forecast"
   ]
  },
  {
   "cell_type": "code",
   "execution_count": 6,
   "id": "fee7c50a-9c58-4e1c-81cb-2d9aec288636",
   "metadata": {},
   "outputs": [
    {
     "name": "stdout",
     "output_type": "stream",
     "text": [
      "['sunny', 'cloudy', 'sunny', 'cloudy', 'cloudy', 'cloudy', 'cloudy']\n"
     ]
    }
   ],
   "source": [
    "# states = [\"sunny\", \"cloudy\", \"rainy\"]\n",
    "\n",
    "# 7 day forecast starting with sunny state\n",
    "print(simulate_weather(7, start=0))\n"
   ]
  },
  {
   "cell_type": "markdown",
   "id": "1b08c00f-2cd6-4a37-a54a-0a724c9eb1a3",
   "metadata": {},
   "source": [
    "# Part c)"
   ]
  },
  {
   "cell_type": "code",
   "execution_count": 15,
   "id": "d543a49d-8a33-4896-86dc-bd78507797a6",
   "metadata": {},
   "outputs": [],
   "source": [
    "import random\n",
    "\n",
    "def simulate_weather(days, start=0):\n",
    "    #define the states: 0 = sunny, 1 = cloudy, 2 = rainy\n",
    "    states = [\"sunny\", \"cloudy\", \"rainy\"]\n",
    "    counter_sunny  = 0\n",
    "    counter_cloudy = 0\n",
    "    counter_rainy  = 0\n",
    "    \n",
    "    #transition matrix (current_state,next_state)\n",
    "    trans = [\n",
    "        [0.8, 0.2, 0.0],  # sunny row\n",
    "        [0.4, 0.4, 0.2],  # cloudy row\n",
    "        [0.2, 0.6, 0.2],  # rainy row\n",
    "    ]\n",
    "    \n",
    "    seq = [start]        # list of states\n",
    "    cur = start          # current state\n",
    "        \n",
    "    if(cur == 0):  # sunny\n",
    "        counter_sunny = counter_sunny + 1\n",
    "    elif(cur == 1):# cloudy\n",
    "        counter_cloudy = counter_cloudy + 1\n",
    "    elif(cur == 2):# rainy\n",
    "        counter_rainy = counter_rainy + 1\n",
    "        \n",
    "    for i in range(days - 1):\n",
    "        #choose next state based on transition probs\n",
    "        nxt = random.choices([0, 1, 2], trans[cur])[0]\n",
    "        seq.append(nxt)\n",
    "        if(nxt == 0):  # sunny\n",
    "            counter_sunny = counter_sunny + 1\n",
    "        elif(nxt == 1):# cloudy\n",
    "            counter_cloudy = counter_cloudy + 1\n",
    "        elif(nxt == 2):# rainy\n",
    "            counter_rainy = counter_rainy + 1\n",
    "        \n",
    "        cur = nxt        # update current state\n",
    "    \n",
    "    #convert numeric states back to names\n",
    "    forecast = []\n",
    "    for i in seq:\n",
    "        forecast.append(states[i])\n",
    "    total = counter_rainy + counter_cloudy + counter_sunny\n",
    "    return [counter_sunny/total,counter_cloudy/total, counter_rainy/total]"
   ]
  },
  {
   "cell_type": "markdown",
   "id": "433d17ac-e70d-48c0-a0df-bfa3cf42727d",
   "metadata": {},
   "source": [
    "\n",
    "the simulator is initialized with sunny day. Since simulated for 1 million days below, the initial state does not really effect the distributions and the convergence, therefore the simulator could be initialized with any day.\n",
    "\n",
    "Since running the simulation for many days is trivial with this code, I simluated it for 1 million days which took 5 secs to complete."
   ]
  },
  {
   "cell_type": "code",
   "execution_count": 26,
   "id": "7c90faea-c003-4f38-befe-744b72dc67bf",
   "metadata": {},
   "outputs": [
    {
     "name": "stdout",
     "output_type": "stream",
     "text": [
      "Distribution for 1 Million simluated days\n",
      "sunny 0.641295\n",
      "cloudy 0.287016\n",
      "rainy 0.071689\n"
     ]
    }
   ],
   "source": [
    "dist = (simulate_weather(1000000, start=0))\n",
    "print(\"Distribution for 1 Million simluated days\")\n",
    "print(\"sunny\", dist[0])\n",
    "print(\"cloudy\", dist[1])\n",
    "print(\"rainy\", dist[2])"
   ]
  },
  {
   "cell_type": "markdown",
   "id": "43e46aef-c472-4264-a9f3-5ab8e0ce129a",
   "metadata": {},
   "source": [
    "Below I simluated with 10 million days, and the distributions only changed by a small percentage"
   ]
  },
  {
   "cell_type": "code",
   "execution_count": 27,
   "id": "31f01100-b5ad-447b-a287-3caa2c86c89b",
   "metadata": {},
   "outputs": [
    {
     "name": "stdout",
     "output_type": "stream",
     "text": [
      "Distribution for 10 Million simluated days\n",
      "sunny 0.6431729\n",
      "cloudy 0.2854009\n",
      "rainy 0.0714262\n"
     ]
    }
   ],
   "source": [
    "dist = (simulate_weather(10000000, start=0))\n",
    "print(\"Distribution for 10 Million simluated days\")\n",
    "print(\"sunny\", dist[0])\n",
    "print(\"cloudy\", dist[1])\n",
    "print(\"rainy\", dist[2])"
   ]
  },
  {
   "cell_type": "markdown",
   "id": "209a7e03-bf6e-41e0-84d8-29759c68f3e4",
   "metadata": {},
   "source": [
    "# part d)"
   ]
  },
  {
   "cell_type": "code",
   "execution_count": 36,
   "id": "176d7d1c-c83a-48ba-849d-6fefc48ac3d1",
   "metadata": {},
   "outputs": [
    {
     "name": "stdout",
     "output_type": "stream",
     "text": [
      "Stationary distribution:\n",
      "Sunny  = 0.6428571428571429\n",
      "Cloudy = 0.2857142857142857\n",
      "Rainy  = 0.0714285714285714\n"
     ]
    }
   ],
   "source": [
    "import numpy as np\n",
    "\n",
    "A = np.array([\n",
    "    [0.8, 0.2, 0.0],  # from sunny\n",
    "    [0.4, 0.4, 0.2],  # from cloudy\n",
    "    [0.2, 0.6, 0.2],  # from rainy\n",
    "])\n",
    "\n",
    "# compute eigenvalues and eigenvectors of A^T\n",
    "# we use transpose because stationary distribution is a left eigenvector\n",
    "vals, vecs = np.linalg.eig(A.T)\n",
    "\n",
    "# find which eigenvalue is equal to 1\n",
    "i = np.argmax(np.isclose(vals, 1))\n",
    "\n",
    "# grab the eigenvector that corresponds to eigenvalue 1\n",
    "v = vecs[:, i]\n",
    "\n",
    "# normalize so the entries sum to 1\n",
    "v = v / v.sum()\n",
    "\n",
    "# print results nicely\n",
    "print(\"Stationary distribution:\")\n",
    "print(\"Sunny  =\", v[0])\n",
    "print(\"Cloudy =\", v[1])\n",
    "print(\"Rainy  =\", v[2])\n"
   ]
  },
  {
   "cell_type": "code",
   "execution_count": null,
   "id": "387e3ceb-4d1b-4e9b-bfb4-d06136bb951d",
   "metadata": {},
   "outputs": [],
   "source": []
  }
 ],
 "metadata": {
  "kernelspec": {
   "display_name": "Python 3 (ipykernel)",
   "language": "python",
   "name": "python3"
  },
  "language_info": {
   "codemirror_mode": {
    "name": "ipython",
    "version": 3
   },
   "file_extension": ".py",
   "mimetype": "text/x-python",
   "name": "python",
   "nbconvert_exporter": "python",
   "pygments_lexer": "ipython3",
   "version": "3.9.5"
  }
 },
 "nbformat": 4,
 "nbformat_minor": 5
}
